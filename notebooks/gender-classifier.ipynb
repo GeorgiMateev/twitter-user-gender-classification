{
 "cells": [
  {
   "cell_type": "code",
   "execution_count": 2,
   "metadata": {
    "collapsed": true
   },
   "outputs": [],
   "source": [
    "# First Always set logging\n",
    "import logging\n",
    "logging.basicConfig(format='%(asctime)s : %(levelname)s : %(message)s', level=logging.INFO)"
   ]
  },
  {
   "cell_type": "markdown",
   "metadata": {},
   "source": [
    "# Covnert tweets to vectors #"
   ]
  },
  {
   "cell_type": "markdown",
   "metadata": {},
   "source": [
    "### Read and create CSV corpus class ###"
   ]
  },
  {
   "cell_type": "code",
   "execution_count": 4,
   "metadata": {},
   "outputs": [],
   "source": [
    "import csv\n",
    "\n",
    "\n",
    "class TrainCorpus(object):\n",
    "    def __init__(self, file_path):\n",
    "        self.file_path = file_path\n",
    "        self.gender_index = 5\n",
    "        self.description_index = 10\n",
    "        self.tweet_index = 19\n",
    "\n",
    "    def __iter__(self):\n",
    "        with open(self.file_path, newline='') as csv_file:\n",
    "            csv_reader = csv.reader(csv_file, delimiter=',', doublequote=False, quoting=csv.QUOTE_NONE)\n",
    "            for row in csv_reader:\n",
    "                if len(row) < 20:\n",
    "                    continue\n",
    "                yield [row[self.gender_index], row[self.description_index], row[self.tweet_index]]"
   ]
  },
  {
   "cell_type": "markdown",
   "metadata": {},
   "source": [
    "### Preprocess data class ###"
   ]
  },
  {
   "cell_type": "code",
   "execution_count": 5,
   "metadata": {},
   "outputs": [
    {
     "name": "stderr",
     "output_type": "stream",
     "text": [
      "C:\\Users\\mateev\\Anaconda3\\envs\\genderclassify\\lib\\site-packages\\gensim\\utils.py:860: UserWarning: detected Windows; aliasing chunkize to chunkize_serial\n  warnings.warn(\"detected Windows; aliasing chunkize to chunkize_serial\")\n"
     ]
    },
    {
     "name": "stderr",
     "output_type": "stream",
     "text": [
      "2017-06-22 02:37:26,196 : INFO : 'pattern' package not found; tag filters are not available for English\n"
     ]
    }
   ],
   "source": [
    "from gensim.utils import tokenize\n",
    "from nltk.corpus import stopwords\n",
    "import re\n",
    "\n",
    "\n",
    "class PreprocessedCorpus(object):\n",
    "    def __init__(self, corpus):\n",
    "        self.corpus = corpus\n",
    "        \n",
    "    def __iter__(self):\n",
    "        for line in train_corpus:\n",
    "            gender = line[0]\n",
    "            description = line[1]\n",
    "            text = line[2]\n",
    "            if gender not in ['male', 'female', 'brand']:\n",
    "                continue\n",
    "\n",
    "            # remove urls\n",
    "            cleaned_descr = re.sub(r'\\w+:\\/{2}[\\d\\w-]+(\\.[\\d\\w-]+)*(?:(?:\\/[^\\s/]*))*', '', description, flags=re.MULTILINE)\n",
    "            cleaned_text = re.sub(r'\\w+:\\/{2}[\\d\\w-]+(\\.[\\d\\w-]+)*(?:(?:\\/[^\\s/]*))*', '', text, flags=re.MULTILINE)\n",
    "\n",
    "            # tokenize\n",
    "            words = list(tokenize(cleaned_descr, deacc=True))\n",
    "            words.extend(tokenize(cleaned_text, deacc=True))\n",
    "\n",
    "            # remove stop words\n",
    "            filtered_words = [word for word in words if word not in stopwords.words('english')]\n",
    "            \n",
    "            yield [gender, filtered_words]"
   ]
  },
  {
   "cell_type": "code",
   "execution_count": 6,
   "metadata": {
    "collapsed": true
   },
   "outputs": [],
   "source": [
    "from gensim.models.keyedvectors import KeyedVectors\n",
    "from functools import reduce\n",
    "\n",
    "\n",
    "class W2VData(object):\n",
    "    def __init__(self, preprocessed_data, model_path):\n",
    "        self.preprocessed_data = preprocessed_data\n",
    "        self.model = KeyedVectors.load_word2vec_format(model_path, binary=True)\n",
    "        self.not_in_vocab = []\n",
    "\n",
    "    def __iter__(self):\n",
    "        for data in self.preprocessed_data:\n",
    "            label = data[0]\n",
    "            line = data[1]\n",
    "\n",
    "            line_vectors = []\n",
    "            \n",
    "            for word in line:\n",
    "                if word in self.model:\n",
    "                    line_vectors.append(self.model[word])\n",
    "                else:\n",
    "                    self.not_in_vocab.append(word)\n",
    "            \n",
    "            if len(line_vectors) == 0:\n",
    "                continue\n",
    "            elif len(line_vectors) == 1:\n",
    "                centroid = line_vectors[0]\n",
    "            else:\n",
    "                sum_vector = reduce((lambda x, y: x + y), line_vectors)\n",
    "                centroid = sum_vector / len(line_vectors)\n",
    "\n",
    "            yield [label, centroid]"
   ]
  },
  {
   "cell_type": "markdown",
   "metadata": {},
   "source": [
    "## Pipeline ##"
   ]
  },
  {
   "cell_type": "code",
   "execution_count": 7,
   "metadata": {
    "collapsed": true
   },
   "outputs": [
    {
     "name": "stderr",
     "output_type": "stream",
     "text": [
      "2017-06-22 02:37:27,870 : INFO : loading projection weights from models/GoogleNews-vectors-negative300.bin\n"
     ]
    },
    {
     "name": "stderr",
     "output_type": "stream",
     "text": [
      "2017-06-22 02:38:13,327 : INFO : loaded (3000000, 300) matrix from models/GoogleNews-vectors-negative300.bin\n"
     ]
    },
    {
     "name": "stdout",
     "output_type": "stream",
     "text": [
      "Number of words as vecs:  17627\nWords not available in the vocabolarity (count = 26682):\n"
     ]
    }
   ],
   "source": [
    "train_corpus = TrainCorpus('train-data/gender-classifier-DFE-791531.csv')\n",
    "preprocessed_corpus = PreprocessedCorpus(train_corpus)\n",
    "w2v_data = W2VData(preprocessed_corpus, 'models/GoogleNews-vectors-negative300.bin')\n",
    "\n",
    "count = 0\n",
    "for line in w2v_data:\n",
    "    count += 1\n",
    "        \n",
    "print('Number of words as vecs: ', count)\n",
    "print('Words not available in the vocabolarity (count = %s):' % len(w2v_data.not_in_vocab))"
   ]
  },
  {
   "cell_type": "code",
   "execution_count": 7,
   "metadata": {},
   "outputs": [],
   "source": [
    ""
   ]
  },
  {
   "cell_type": "code",
   "execution_count": 7,
   "metadata": {},
   "outputs": [],
   "source": [
    ""
   ]
  },
  {
   "cell_type": "code",
   "execution_count": 7,
   "metadata": {},
   "outputs": [],
   "source": [
    ""
   ]
  },
  {
   "cell_type": "code",
   "execution_count": 7,
   "metadata": {},
   "outputs": [],
   "source": [
    ""
   ]
  },
  {
   "cell_type": "code",
   "execution_count": null,
   "metadata": {},
   "outputs": [],
   "source": [
    ""
   ]
  }
 ],
 "metadata": {
  "kernelspec": {
   "display_name": "Python 3",
   "language": "python",
   "name": "python3"
  },
  "language_info": {
   "codemirror_mode": {
    "name": "ipython",
    "version": 3.0
   },
   "file_extension": ".py",
   "mimetype": "text/x-python",
   "name": "python",
   "nbconvert_exporter": "python",
   "pygments_lexer": "ipython3",
   "version": "3.6.0"
  }
 },
 "nbformat": 4,
 "nbformat_minor": 0
}