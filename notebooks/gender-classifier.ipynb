{
 "cells": [
  {
   "cell_type": "code",
   "execution_count": 69,
   "metadata": {
    "collapsed": true
   },
   "outputs": [],
   "source": [
    "# First Always set logging\n",
    "import logging\n",
    "logging.basicConfig(format='%(asctime)s : %(levelname)s : %(message)s', level=logging.INFO)"
   ]
  },
  {
   "cell_type": "markdown",
   "metadata": {},
   "source": [
    "# Covnert tweets to vectors #"
   ]
  },
  {
   "cell_type": "markdown",
   "metadata": {},
   "source": [
    "### Read and create CSV corpus class ###"
   ]
  },
  {
   "cell_type": "code",
   "execution_count": 70,
   "metadata": {},
   "outputs": [],
   "source": [
    "import csv\n",
    "\n",
    "\n",
    "class TrainCorpus(object):\n",
    "    def __init__(self, file_path):\n",
    "        self.file_path = file_path\n",
    "        self.gender_index = 5\n",
    "        self.description_index = 10\n",
    "        self.tweet_index = 19\n",
    "\n",
    "    def __iter__(self):\n",
    "        with open(self.file_path, newline='') as csv_file:\n",
    "            csv_reader = csv.reader(csv_file, delimiter=',', doublequote=False, quoting=csv.QUOTE_NONE)\n",
    "            for row in csv_reader:\n",
    "                if len(row) < 20:\n",
    "                    continue\n",
    "                yield [row[self.gender_index], row[self.description_index], row[self.tweet_index]]"
   ]
  },
  {
   "cell_type": "markdown",
   "metadata": {},
   "source": [
    "### Preprocess data class ###"
   ]
  },
  {
   "cell_type": "code",
   "execution_count": 71,
   "metadata": {},
   "outputs": [],
   "source": [
    "from gensim.utils import tokenize\n",
    "from nltk.corpus import stopwords\n",
    "import re\n",
    "\n",
    "\n",
    "class PreprocessedCorpus(object):\n",
    "    def __init__(self, corpus):\n",
    "        self.corpus = corpus\n",
    "        \n",
    "    def __iter__(self):\n",
    "        for line in train_corpus:\n",
    "            gender = line[0]\n",
    "            description = line[1]\n",
    "            text = line[2]\n",
    "            if gender not in ['male', 'female', 'brand']:\n",
    "                continue\n",
    "\n",
    "            # remove urls\n",
    "            cleaned_descr = re.sub(r'\\w+:\\/{2}[\\d\\w-]+(\\.[\\d\\w-]+)*(?:(?:\\/[^\\s/]*))*', '', description, flags=re.MULTILINE)\n",
    "            cleaned_text = re.sub(r'\\w+:\\/{2}[\\d\\w-]+(\\.[\\d\\w-]+)*(?:(?:\\/[^\\s/]*))*', '', text, flags=re.MULTILINE)\n",
    "\n",
    "            # tokenize\n",
    "            words = list(tokenize(cleaned_descr, deacc=True))\n",
    "            words.extend(tokenize(cleaned_text, deacc=True))\n",
    "\n",
    "            # remove stop words\n",
    "            filtered_words = [word for word in words if word not in stopwords.words('english')]\n",
    "            \n",
    "            yield [gender, filtered_words]"
   ]
  },
  {
   "cell_type": "code",
   "execution_count": 72,
   "metadata": {
    "collapsed": true
   },
   "outputs": [],
   "source": [
    "# from gensim.models import Word2Vec\n",
    "# from gensim.utils import tokenize\n",
    "# model = Word2Vec.load('models/...')"
   ]
  },
  {
   "cell_type": "markdown",
   "metadata": {},
   "source": [
    "## Pipeline ##"
   ]
  },
  {
   "cell_type": "code",
   "execution_count": 73,
   "metadata": {},
   "outputs": [],
   "source": [
    "train_corpus = TrainCorpus('train-data/gender-classifier-DFE-791531.csv')\n",
    "preprocessed_corpus = PreprocessedCorpus(train_corpus)\n",
    "\n",
    "# for line in preprocessed_corpus:\n",
    "#"
   ]
  },
  {
   "cell_type": "code",
   "execution_count": null,
   "metadata": {},
   "outputs": [],
   "source": [
    ""
   ]
  }
 ],
 "metadata": {
  "kernelspec": {
   "display_name": "Python 3",
   "language": "python",
   "name": "python3"
  },
  "language_info": {
   "codemirror_mode": {
    "name": "ipython",
    "version": 3.0
   },
   "file_extension": ".py",
   "mimetype": "text/x-python",
   "name": "python",
   "nbconvert_exporter": "python",
   "pygments_lexer": "ipython3",
   "version": "3.6.0"
  }
 },
 "nbformat": 4,
 "nbformat_minor": 0
}